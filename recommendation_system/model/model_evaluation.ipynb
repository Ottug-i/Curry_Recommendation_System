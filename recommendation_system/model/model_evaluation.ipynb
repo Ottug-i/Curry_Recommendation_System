{
  "nbformat": 4,
  "nbformat_minor": 0,
  "metadata": {
    "colab": {
      "provenance": []
    },
    "kernelspec": {
      "name": "python3",
      "display_name": "Python 3"
    },
    "language_info": {
      "name": "python"
    }
  },
  "cells": [
    {
      "cell_type": "code",
      "source": [
        "import pandas as pd\n",
        "from sklearn.model_selection import train_test_split\n",
        "from sklearn.linear_model import Lasso\n",
        "import numpy as np\n",
        "from sklearn.metrics import mean_squared_error, mean_absolute_error, r2_score, make_scorer"
      ],
      "metadata": {
        "id": "pS9KUKQtb5fa"
      },
      "execution_count": 3,
      "outputs": []
    },
    {
      "cell_type": "code",
      "source": [
        "# 예시 사용자로 RMSE 계산\n",
        "user_ratings = pd.read_csv('user_rating.csv')\n",
        "curry_genres = pd.read_csv('../recipe/genres.csv')\n",
        "\n",
        "user_ratings = user_ratings.merge(curry_genres, left_on='id', right_on='id')\n",
        "\n",
        "user_profile = user_ratings[user_ratings['userId'] == 1]\n",
        "\n",
        "X_train, X_test, y_train, y_test = train_test_split(user_profile[curry_genres.columns], user_profile['rating'], random_state=42, test_size=0.1)\n",
        "\n",
        "lasso = Lasso(alpha=0.005)\n",
        "\n",
        "lasso.fit(X_train, y_train)\n",
        "\n",
        "predictions = lasso.predict(X_test)\n",
        "\n",
        "mse = mean_squared_error(y_test, predictions)\n",
        "rmse = np.sqrt(mse)\n",
        "print(rmse)"
      ],
      "metadata": {
        "colab": {
          "base_uri": "https://localhost:8080/"
        },
        "id": "3cOTqObxbW7N",
        "outputId": "4e034cda-d201-4e1a-be6c-15d3ea3aced5"
      },
      "execution_count": 5,
      "outputs": [
        {
          "output_type": "stream",
          "name": "stdout",
          "text": [
            "0.02889855770624835\n"
          ]
        }
      ]
    }
  ]
}